import pandas as pd
data = pd.read_csv(r"C:\Users\Vidyabharrathi\Downloads\appu file.csv")
data
data.head()
